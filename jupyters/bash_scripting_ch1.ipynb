{
 "cells": [
  {
   "cell_type": "markdown",
   "metadata": {},
   "source": [
    "# Chapter 1: From Command-Line to Bash Script"
   ]
  },
  {
   "cell_type": "markdown",
   "metadata": {},
   "source": [
    "## Searching for words inside a file with shell"
   ]
  },
  {
   "cell_type": "code",
   "execution_count": 59,
   "metadata": {},
   "outputs": [
    {
     "name": "stdout",
     "output_type": "stream",
     "text": [
      "\u001b[0m\u001b[34;42mfilesys\u001b[0m      \u001b[01;32mhire_data.zip\u001b[0m         \u001b[01;32mmodel_results.zip\u001b[0m  \u001b[01;32msoccer_scores.csv\u001b[0m\n",
      "\u001b[01;32mfilesys.zip\u001b[0m  \u001b[01;32minherited_folder.zip\u001b[0m  \u001b[01;32mnew_hires.csv\u001b[0m      \u001b[01;32msoccer_scores_edited.csv\u001b[0m\n",
      "\u001b[34;42mhire_data\u001b[0m    \u001b[01;32mmodel_out.zip\u001b[0m         \u001b[01;32mrobs_files.zip\u001b[0m\n"
     ]
    }
   ],
   "source": [
    "ls ../data"
   ]
  },
  {
   "cell_type": "code",
   "execution_count": 60,
   "metadata": {},
   "outputs": [
    {
     "name": "stdout",
     "output_type": "stream",
     "text": [
      "﻿Year,Winner,Winner Goals\n",
      "1932,Arda,4\n",
      "1933,Botev,1\n",
      "1934,Cherno,5\n",
      "1935,Dunav,2\n",
      "1936,Cherno,4\n",
      "1937,Dunav,4\n",
      "1938,Beroe,5\n",
      "1939,Botev,2\n",
      "1940,Beroe,3\n"
     ]
    }
   ],
   "source": [
    "head ../data/soccer_scores.csv"
   ]
  },
  {
   "cell_type": "markdown",
   "metadata": {},
   "source": [
    "Use command line arguments such as `cat`, `grep` and `wc` with the right flag to count the number of lines in the file `soccer_scores.csv` that contain either the character 'Cherno' or 'Beroe'. Use exactly these spellings and capitalizations."
   ]
  },
  {
   "cell_type": "markdown",
   "metadata": {},
   "source": [
    "**Hint:** \n",
    "\n",
    "You will need to use an 'or' with `grep` which uses an **escaped pipe inside the quotes** `\\|`.\n",
    "\n",
    "There are two flags to `wc` you could use, `-w` for words or `-l` for lines.\n"
   ]
  },
  {
   "cell_type": "code",
   "execution_count": 61,
   "metadata": {},
   "outputs": [
    {
     "name": "stdout",
     "output_type": "stream",
     "text": [
      "16\n"
     ]
    }
   ],
   "source": [
    "cat ../data/soccer_scores.csv | grep \"Cherno\\|Beroe\" | wc -l"
   ]
  },
  {
   "cell_type": "code",
   "execution_count": 62,
   "metadata": {},
   "outputs": [
    {
     "name": "stdout",
     "output_type": "stream",
     "text": [
      "16\n"
     ]
    }
   ],
   "source": [
    "cat ../data/soccer_scores.csv | egrep \"Cherno|Beroe\" | wc -l"
   ]
  },
  {
   "cell_type": "code",
   "execution_count": 64,
   "metadata": {},
   "outputs": [
    {
     "name": "stdout",
     "output_type": "stream",
     "text": [
      "16\n"
     ]
    }
   ],
   "source": [
    "cat ../data/soccer_scores.csv | grep -E \"Cherno|Beroe\" | wc -l"
   ]
  },
  {
   "cell_type": "markdown",
   "metadata": {},
   "source": [
    "Note that `egrep` is exactly the same as `grep -E`"
   ]
  },
  {
   "cell_type": "code",
   "execution_count": 63,
   "metadata": {},
   "outputs": [
    {
     "name": "stdout",
     "output_type": "stream",
     "text": [
      "﻿Country,City,Job Name,Salary\n",
      "Afghanistan,Kabul,Javascript Developer,158003\n",
      "Akrotiri and Dhekelia,Episkopi Cantonment,Python Developer,194640\n",
      "Albania,Tirana,Data Scientist,187506\n",
      "Algeria,Algiers,Javascript Developer,165451\n",
      "American Samoa,Pago Pago,Python Developer,175138\n",
      "Andorra,Andorra la Vella,Data Scientist,197452\n",
      "Angola,Luanda,Javascript Developer,144335\n",
      "Anguilla,The Valley,Python Developer,121100\n",
      "Antigua and Barbuda,St. John's,Data Scientist,108816\n"
     ]
    }
   ],
   "source": [
    "head ../data/new_hires.csv"
   ]
  },
  {
   "cell_type": "markdown",
   "metadata": {},
   "source": [
    "Use command line arguments such as `cat`, `grep` and `wc` with the right flag to count the number of lines in the file `soccer_scores.csv` that contain either the character 'Data Scientist' or 'Python Developer'. Use exactly these spellings and capitalizations."
   ]
  },
  {
   "cell_type": "code",
   "execution_count": 65,
   "metadata": {},
   "outputs": [
    {
     "name": "stdout",
     "output_type": "stream",
     "text": [
      "164\n"
     ]
    }
   ],
   "source": [
    "cat ../data/new_hires.csv | grep -E \"Data Scientist|Python Developer\" | wc -l"
   ]
  },
  {
   "cell_type": "code",
   "execution_count": 66,
   "metadata": {},
   "outputs": [
    {
     "name": "stdout",
     "output_type": "stream",
     "text": [
      "﻿Country,City,Job Name,Salary\n",
      "Afghanistan,Kabul,Javascript Developer,158003\n",
      "Akrotiri and Dhekelia,Episkopi Cantonment,Python Developer,194640\n",
      "Albania,Tirana,Data Scientist,187506\n",
      "Algeria,Algiers,Javascript Developer,165451\n",
      "American Samoa,Pago Pago,Python Developer,175138\n",
      "Andorra,Andorra la Vella,Data Scientist,197452\n",
      "Angola,Luanda,Javascript Developer,144335\n",
      "Anguilla,The Valley,Python Developer,121100\n",
      "Antigua and Barbuda,St. John's,Data Scientist,108816\n"
     ]
    }
   ],
   "source": [
    "head ../data/new_hires.csv "
   ]
  },
  {
   "cell_type": "markdown",
   "metadata": {},
   "source": [
    "## Shell pipelines to Bash scripts"
   ]
  },
  {
   "cell_type": "code",
   "execution_count": 67,
   "metadata": {},
   "outputs": [
    {
     "name": "stdout",
     "output_type": "stream",
     "text": [
      "Job Name\n",
      "Javascript Developer\n",
      "Python Developer\n",
      "Data Scientist\n",
      "Javascript Developer\n",
      "Python Developer\n",
      "Data Scientist\n",
      "Javascript Developer\n",
      "Python Developer\n",
      "Data Scientist\n"
     ]
    }
   ],
   "source": [
    "cat ../data/new_hires.csv | cut -d \",\" -f 3 | head"
   ]
  },
  {
   "cell_type": "code",
   "execution_count": null,
   "metadata": {},
   "outputs": [],
   "source": [
    "touch ../scripts/cut_field.sh"
   ]
  },
  {
   "cell_type": "code",
   "execution_count": 68,
   "metadata": {},
   "outputs": [
    {
     "name": "stdout",
     "output_type": "stream",
     "text": [
      "\u001b[0m\u001b[01;32margs2.sh\u001b[0m  \u001b[01;32margs.sh\u001b[0m  \u001b[01;32mbash.sh\u001b[0m  \u001b[01;32mchange_team_names.sh\u001b[0m  \u001b[01;32mcut_field.sh\u001b[0m  \u001b[01;32mhire_data.sh\u001b[0m\n"
     ]
    }
   ],
   "source": [
    "ls ../scripts"
   ]
  },
  {
   "cell_type": "code",
   "execution_count": 69,
   "metadata": {},
   "outputs": [
    {
     "name": "stdout",
     "output_type": "stream",
     "text": [
      "     81 Data Scientist\n",
      "      1  D.C.\"\n",
      "     83 Javascript Developer\n",
      "      1 Job Name\n",
      "     82 Python Developer\n"
     ]
    }
   ],
   "source": [
    "cat ../data/new_hires.csv | cut -d \",\" -f 3 | sort | uniq -c"
   ]
  },
  {
   "cell_type": "code",
   "execution_count": 70,
   "metadata": {},
   "outputs": [
    {
     "name": "stdout",
     "output_type": "stream",
     "text": [
      "     81 Data Scientist\n",
      "      1  D.C.\"\n",
      "     83 Javascript Developer\n",
      "     82 Python Developer\n"
     ]
    }
   ],
   "source": [
    "cat ../data/new_hires.csv | tail -n +2 | cut -d \",\" -f 3 | sort | uniq -c"
   ]
  },
  {
   "cell_type": "code",
   "execution_count": null,
   "metadata": {},
   "outputs": [],
   "source": [
    "#!/usr/bin/bash\n",
    "cat ../data/new_hires.csv | cut -d \",\" -f 3 | sort | uniq -c"
   ]
  },
  {
   "cell_type": "markdown",
   "metadata": {},
   "source": [
    "**Exercise**\n",
    "\n",
    "In this exercise, you are working as a sports analyst for a Bulgarian soccer league. You have received some data on the results of the grand final from 1932 in a `csv` file. The file is comma-delimited in the format `Year,Winner,Winner Goals` which lists the year of the match, the team that won and how many goals the winning team scored, such as `1932,Arda,4`.\n",
    "\n",
    "Your job is to create a Bash script from a shell piped command which will aggregate to see how many times each team has won.\n",
    "\n",
    "Don't worry about the `tail -n +2` part, this just ensures we don't aggregate the `CSV` headers!\n",
    "\n",
    "**Instructions:** Create a single-line pipe to `cat` the file, `cut` out the relevant field and aggregate (`sort` & `uniq -c` will help!) based on winning team."
   ]
  },
  {
   "cell_type": "code",
   "execution_count": 71,
   "metadata": {},
   "outputs": [
    {
     "name": "stdout",
     "output_type": "stream",
     "text": [
      "﻿Year,Winner,Winner Goals\n",
      "1932,Arda,4\n",
      "1933,Botev,1\n",
      "1934,Cherno,5\n",
      "1935,Dunav,2\n",
      "1936,Cherno,4\n",
      "1937,Dunav,4\n",
      "1938,Beroe,5\n",
      "1939,Botev,2\n",
      "1940,Beroe,3\n"
     ]
    }
   ],
   "source": [
    "head ../data/soccer_scores.csv"
   ]
  },
  {
   "cell_type": "code",
   "execution_count": 72,
   "metadata": {},
   "outputs": [
    {
     "name": "stdout",
     "output_type": "stream",
     "text": [
      "1932,Arda,4\n",
      "1933,Botev,1\n",
      "1934,Cherno,5\n",
      "1935,Dunav,2\n",
      "1936,Cherno,4\n",
      "1937,Dunav,4\n",
      "1938,Beroe,5\n",
      "1939,Botev,2\n",
      "1940,Beroe,3\n",
      "1941,Botev,1\n"
     ]
    }
   ],
   "source": [
    "# start from the second line of the file\n",
    "tail -n +2 ../data/soccer_scores.csv | head"
   ]
  },
  {
   "cell_type": "code",
   "execution_count": 73,
   "metadata": {},
   "outputs": [
    {
     "name": "stdout",
     "output_type": "stream",
     "text": [
      "     13 Arda\n",
      "      8 Beroe\n",
      "      9 Botev\n",
      "      8 Cherno\n",
      "     17 Dunav\n",
      "     15 Etar\n",
      "      4 Levski\n",
      "      1 Lokomotiv\n"
     ]
    }
   ],
   "source": [
    "cat ../data/soccer_scores.csv | tail -n +2 | cut -d \",\" -f 2 | sort | uniq -c "
   ]
  },
  {
   "cell_type": "code",
   "execution_count": 74,
   "metadata": {},
   "outputs": [
    {
     "name": "stdout",
     "output_type": "stream",
     "text": [
      "     13 Arda\n",
      "      8 Beroe\n",
      "      9 Botev\n",
      "      8 Cherno\n",
      "     17 Dunav\n",
      "     15 Etar\n",
      "      4 Levski\n",
      "      1 Lokomotiv\n"
     ]
    }
   ],
   "source": [
    "cat ../data/soccer_scores.csv | cut -d \",\" -f 2 | tail -n +2 | sort | uniq -c"
   ]
  },
  {
   "cell_type": "code",
   "execution_count": null,
   "metadata": {},
   "outputs": [],
   "source": [
    "#!/bin/bash\n",
    "cat ../data/soccer_scores.csv | tail -n +2 | cut -d \",\" -f 2 | sort | uniq -c "
   ]
  },
  {
   "cell_type": "markdown",
   "metadata": {},
   "source": [
    "## Extract and edit using Bash scripts"
   ]
  },
  {
   "cell_type": "markdown",
   "metadata": {},
   "source": [
    "Continuing your work for the Bulgarian soccer league - you need to do some editing on the data you have. Several teams have changed their names so you need to do some replacements. The data is the same as the previous exercise.\n",
    "\n",
    "You will need to create a Bash script that makes use of `sed` to change the required team names.\n",
    "\n",
    "Instructions:\n",
    "\n",
    "* Create a pipe using `sed` twice to change the team `Cherno` to `Cherno City` first, and then `Arda` to `Arda United`.\n",
    "* Pipe the output to a file called `soccer_scores_edited.csv`.\n",
    "* Save your script and run from the console. Try opening `soccer_scores_edited.csv` using shell commands to confirm it worked (the first line should be changed)!"
   ]
  },
  {
   "cell_type": "code",
   "execution_count": 75,
   "metadata": {},
   "outputs": [
    {
     "name": "stdout",
     "output_type": "stream",
     "text": [
      "﻿Year,Winner,Winner Goals\n",
      "1932,Arda,4\n",
      "1933,Botev,1\n",
      "1934,Cherno City,5\n",
      "1935,Dunav,2\n",
      "1936,Cherno City,4\n",
      "1937,Dunav,4\n",
      "1938,Beroe,5\n",
      "1939,Botev,2\n",
      "1940,Beroe,3\n"
     ]
    }
   ],
   "source": [
    "sed 's/Cherno/Cherno City/' ../data/soccer_scores.csv | head"
   ]
  },
  {
   "cell_type": "code",
   "execution_count": 76,
   "metadata": {},
   "outputs": [
    {
     "name": "stdout",
     "output_type": "stream",
     "text": [
      "﻿Year,Winner,Winner Goals\n",
      "1932,Arda United,4\n",
      "1933,Botev,1\n",
      "1934,Cherno City,5\n",
      "1935,Dunav,2\n",
      "1936,Cherno City,4\n",
      "1937,Dunav,4\n",
      "1938,Beroe,5\n",
      "1939,Botev,2\n",
      "1940,Beroe,3\n"
     ]
    }
   ],
   "source": [
    "sed 's/Cherno/Cherno City/' ../data/soccer_scores.csv | sed 's/Arda/Arda United/' | head"
   ]
  },
  {
   "cell_type": "code",
   "execution_count": null,
   "metadata": {},
   "outputs": [],
   "source": [
    "sed 's/Cherno/Cherno City/' ../data/soccer_scores.csv | sed 's/Arda/Arda United/' > soccer_scores_edited.csv"
   ]
  },
  {
   "cell_type": "code",
   "execution_count": null,
   "metadata": {},
   "outputs": [],
   "source": [
    "#!/bin/bash\n",
    "sed 's/Cherno/Cherno City/' ../data/soccer_scores.csv | sed 's/Arda/Arda United/' > ../data/soccer_scores_edited.csv"
   ]
  },
  {
   "cell_type": "code",
   "execution_count": null,
   "metadata": {},
   "outputs": [],
   "source": [
    "touch ../scripts/change_team_names.sh"
   ]
  },
  {
   "cell_type": "markdown",
   "metadata": {},
   "source": [
    "I forgot the `g` at the end:"
   ]
  },
  {
   "cell_type": "code",
   "execution_count": null,
   "metadata": {},
   "outputs": [],
   "source": [
    "# Create a sed pipe to a new file\n",
    "cat soccer_scores.csv | sed 's/Cherno/Cherno City/g' | sed 's/Arda/Arda United/g' > soccer_scores_edited.csv"
   ]
  },
  {
   "cell_type": "markdown",
   "metadata": {},
   "source": [
    "## Standard streams & arguments"
   ]
  },
  {
   "cell_type": "markdown",
   "metadata": {},
   "source": [
    "It is also useful to know about the three streams for Bash programs. \n",
    "\n",
    "* Standard input is the stream of data going into the program. \n",
    "* Standard output is the stream going out, and \n",
    "* Standard error is where errors and exceptions in the program are written to. \n",
    "\n",
    "By default this isn't obvious as the streams tend to appear in the terminal. \n",
    "\n",
    "Though you may see scripts called with this bit of code at the end: `2> /dev/null`. This is redirecting the standard error **to part of the UNIX system which deletes input**. i.e. Redirecting standard error to be deleted.\n",
    "\n",
    "You could use the same using 1 to redirect stdout: `1> /dev/null`. "
   ]
  },
  {
   "cell_type": "markdown",
   "metadata": {},
   "source": [
    "### STDIN vs ARGV\n",
    "A key concept for Bash scripting is the use of arguments. Bash scripts take arguments specified when making the execution call of the script. \n",
    "\n",
    "* RGV is a term to describe all the arguments that are fed into the script.\n",
    "* ARGV is the array of all the arguments given to the program.\n",
    "* Each argument can be accessed using the dollar-sign notation `$`. The first argument being `$1` etc. \n",
    "* Some other special arguments are `$@` and `$*` which return all the arguments (in ARGV) together. \n",
    "* `$#` gives the number of arguments.  "
   ]
  },
  {
   "cell_type": "code",
   "execution_count": null,
   "metadata": {},
   "outputs": [],
   "source": [
    "#!/usr/bin/env bash\n",
    "\n",
    "echo $1 # returns first argument\n",
    "echo $2 # returns second argument\n",
    "echo $@ # returns all the arguments given to the program\n",
    "\n",
    "echo \"There are \" $# \"arguments\""
   ]
  },
  {
   "cell_type": "code",
   "execution_count": 77,
   "metadata": {},
   "outputs": [
    {
     "name": "stdout",
     "output_type": "stream",
     "text": [
      "one\n",
      "two\n",
      "one two three four five\n",
      "There are  5 arguments\n"
     ]
    }
   ],
   "source": [
    "../scripts/./args.sh one two three four five"
   ]
  },
  {
   "cell_type": "code",
   "execution_count": 78,
   "metadata": {},
   "outputs": [
    {
     "name": "stdout",
     "output_type": "stream",
     "text": [
      "one\n",
      "two\n",
      "one two three four five\n",
      "There are  5 arguments\n"
     ]
    }
   ],
   "source": [
    "bash ../scripts/args.sh one two three four five"
   ]
  },
  {
   "cell_type": "markdown",
   "metadata": {},
   "source": [
    "### Using arguments in Bash scripts - exercise"
   ]
  },
  {
   "cell_type": "markdown",
   "metadata": {},
   "source": [
    "Often you will find that your Bash scripts are part of an overall analytics pipeline or process, so it's very useful to be able to take in arguments (ARGV) from the command line and use these inside your scripts.\n",
    "\n",
    "Your job is to create a Bash script that will return the arguments inputted as well as utilize some of the special properties of ARGV elements in Bash scripts.\n",
    "\n",
    "Since we are using arguments, you must run your script from the terminal pane, not using the 'run this file' button.\n",
    "\n",
    "**Instructions**\n",
    "\n",
    "* Echo the first and second ARGV arguments.\n",
    "* Echo out the entire ARGV array in one command (not each element).\n",
    "* Echo out the size of ARGV (how many arguments fed in).\n",
    "* Save your script and run from the terminal using the arguments `Bird Fish Rabbit`. Don't use the `./script.sh` method."
   ]
  },
  {
   "cell_type": "code",
   "execution_count": null,
   "metadata": {},
   "outputs": [],
   "source": [
    "#!/usr/bin/env bash\n",
    "\n",
    "# Echo the first and second ARGV arguments\n",
    "echo $1\n",
    "echo $2\n",
    "\n",
    "# Echo out the entire ARGV array\n",
    "echo $@\n",
    "\n",
    "# Echo out the size of ARGV\n",
    "echo $#"
   ]
  },
  {
   "cell_type": "code",
   "execution_count": 79,
   "metadata": {},
   "outputs": [
    {
     "name": "stdout",
     "output_type": "stream",
     "text": [
      "Bird\n",
      "Fish\n",
      "Bird Fish Rabbit\n",
      "3\n"
     ]
    }
   ],
   "source": [
    "../scripts/./args2.sh Bird Fish Rabbit"
   ]
  },
  {
   "cell_type": "code",
   "execution_count": 80,
   "metadata": {},
   "outputs": [
    {
     "name": "stdout",
     "output_type": "stream",
     "text": [
      "Bird\n",
      "Fish\n",
      "Bird Fish Rabbit\n",
      "3\n"
     ]
    }
   ],
   "source": [
    "bash ../scripts/args2.sh Bird Fish Rabbit"
   ]
  },
  {
   "cell_type": "markdown",
   "metadata": {},
   "source": [
    "### Using arguments with HR data - exercise"
   ]
  },
  {
   "cell_type": "markdown",
   "metadata": {},
   "source": [
    "In this exercise, you are working as a data scientist in the HR department of a large IT company. You need to extract salary figures for recent hires, however, the HR IT system simply spits out hundreds of files into the folder `/hire_data`.\n",
    "\n",
    "Each file is comma-delimited in the format `COUNTRY,CITY,JOBTITLE,SALARY` such as `Estonia,Tallinn,Javascript Developer,118286`\n",
    "\n",
    "Your job is to create a Bash script to extract the information needed. Depending on the task at hand, you may need to go back and extract data for a different city. Therefore, your script will need to take in a city (an argument) as a variable, filter all the files by this city and output to a new CSV with the city name. This file can then form part of your analytics work.\n",
    "\n",
    "**Instructions**\n",
    "\n",
    "* Echo the first ARGV argument so you can confirm it is being read in.\n",
    "* `cat` all the files in the directory `/hire_data` and pipe to `grep` to filter using the city name (your first ARGV argument).\n",
    "* On the same line, pipe out the filtered data to a new CSV called `cityname.csv` where `cityname` is taken from the first ARGV argument.\n",
    "* Save your script and run from the console twice (do not use the `./script.sh` method). Once with the argument `Seoul`. Then once with the argument `Tallinn`."
   ]
  },
  {
   "cell_type": "code",
   "execution_count": 81,
   "metadata": {},
   "outputs": [
    {
     "name": "stdout",
     "output_type": "stream",
     "text": [
      "new_hiresaa.csv\n",
      "new_hiresaaE5.csv\n",
      "new_hiresaaE5WS.csv\n",
      "new_hiresaaWS.csv\n",
      "new_hiresaaXA.csv\n",
      "new_hiresaaXAWS.csv\n",
      "new_hiresabXA.csv\n",
      "new_hiresabXAE5.csv\n",
      "new_hiresabXAE5WS.csv\n",
      "new_hiresabXAWS.csv\n"
     ]
    }
   ],
   "source": [
    "ls ../data/hire_data/ | head"
   ]
  },
  {
   "cell_type": "code",
   "execution_count": 82,
   "metadata": {},
   "outputs": [
    {
     "name": "stdout",
     "output_type": "stream",
     "text": [
      "﻿Country,City,Job Name,Salary\n",
      "Afghanistan,Kabul,Javascript Developer,158003\n",
      "Akrotiri and Dhekelia,Episkopi Cantonment,Python Developer,194640\n",
      "Albania,Tirana,Data Scientist,187506\n",
      "Algeria,Algiers,Javascript Developer,165451\n"
     ]
    }
   ],
   "source": [
    "head ../data/hire_data/new_hiresaa.csv"
   ]
  },
  {
   "cell_type": "markdown",
   "metadata": {},
   "source": [
    "`cat` reads the **content** of the file"
   ]
  },
  {
   "cell_type": "code",
   "execution_count": 83,
   "metadata": {},
   "outputs": [
    {
     "name": "stdout",
     "output_type": "stream",
     "text": [
      "﻿Country,City,Job Name,Salary\n",
      "Afghanistan,Kabul,Javascript Developer,158003\n",
      "Akrotiri and Dhekelia,Episkopi Cantonment,Python Developer,194640\n",
      "Albania,Tirana,Data Scientist,187506\n",
      "Algeria,Algiers,Javascript Developer,165451\n"
     ]
    }
   ],
   "source": [
    "cat ../data/hire_data/new_hiresaa.csv | head"
   ]
  },
  {
   "cell_type": "code",
   "execution_count": null,
   "metadata": {},
   "outputs": [],
   "source": [
    "cat ../data/hire_data/* "
   ]
  },
  {
   "cell_type": "markdown",
   "metadata": {},
   "source": [
    "* `cat` reads the content of **each file inside** the `hire_data/` directory\n",
    "* The content of each file inside that directory is passed and filtered with `grep`"
   ]
  },
  {
   "cell_type": "markdown",
   "metadata": {},
   "source": [
    "`bash script arg1=cityname`"
   ]
  },
  {
   "cell_type": "code",
   "execution_count": null,
   "metadata": {},
   "outputs": [],
   "source": [
    "#!/usr/bin/env bash\n",
    "\n",
    "# Echo the first ARGV argument\n",
    "echo $1\n",
    "\n",
    "# Cat all the files #=> cat reads the content of each file\n",
    "# Then pipe to grep using the first ARGV argument $1\n",
    "# Then write out to a named csv using the first ARGV argument\n",
    "# Then write out to a csv named using the first ARGV argument\n",
    "cat ../data/hire_data/* | grep \"$1\" > \"$1\".csv\n",
    "# cat reads the entire content of each file inside the hire_data/ directory\n",
    "# The content of each file inside that directory is passed and filtered with grep"
   ]
  },
  {
   "cell_type": "markdown",
   "metadata": {},
   "source": [
    "Now, we are able to send in an ARGV argument to our script and use it to filter some messy file data to extract what we want."
   ]
  },
  {
   "cell_type": "code",
   "execution_count": 55,
   "metadata": {},
   "outputs": [
    {
     "name": "stdout",
     "output_type": "stream",
     "text": [
      "Seoul\n"
     ]
    }
   ],
   "source": [
    "bash ../scripts/hire_data.sh Seoul"
   ]
  },
  {
   "cell_type": "code",
   "execution_count": 56,
   "metadata": {},
   "outputs": [
    {
     "name": "stdout",
     "output_type": "stream",
     "text": [
      "\u001b[01;31m\u001b[KSeoul\u001b[m\u001b[K.csv\n"
     ]
    }
   ],
   "source": [
    "ls | grep Seoul"
   ]
  },
  {
   "cell_type": "code",
   "execution_count": 57,
   "metadata": {},
   "outputs": [
    {
     "name": "stdout",
     "output_type": "stream",
     "text": [
      "Tallinn\n"
     ]
    }
   ],
   "source": [
    "bash ../scripts/hire_data.sh Tallinn"
   ]
  },
  {
   "cell_type": "code",
   "execution_count": 58,
   "metadata": {},
   "outputs": [
    {
     "name": "stdout",
     "output_type": "stream",
     "text": [
      "\u001b[01;31m\u001b[KTallinn\u001b[m\u001b[K.csv\n"
     ]
    }
   ],
   "source": [
    "ls | grep Tallinn"
   ]
  }
 ],
 "metadata": {
  "kernelspec": {
   "display_name": "Bash",
   "language": "bash",
   "name": "bash"
  },
  "language_info": {
   "codemirror_mode": "shell",
   "file_extension": ".sh",
   "mimetype": "text/x-sh",
   "name": "bash"
  },
  "toc": {
   "base_numbering": 1,
   "nav_menu": {},
   "number_sections": false,
   "sideBar": true,
   "skip_h1_title": false,
   "title_cell": "Table of Contents",
   "title_sidebar": "Contents",
   "toc_cell": false,
   "toc_position": {},
   "toc_section_display": true,
   "toc_window_display": false
  },
  "varInspector": {
   "cols": {
    "lenName": 16,
    "lenType": 16,
    "lenVar": 40
   },
   "kernels_config": {
    "python": {
     "delete_cmd_postfix": "",
     "delete_cmd_prefix": "del ",
     "library": "var_list.py",
     "varRefreshCmd": "print(var_dic_list())"
    },
    "r": {
     "delete_cmd_postfix": ") ",
     "delete_cmd_prefix": "rm(",
     "library": "var_list.r",
     "varRefreshCmd": "cat(var_dic_list()) "
    }
   },
   "types_to_exclude": [
    "module",
    "function",
    "builtin_function_or_method",
    "instance",
    "_Feature"
   ],
   "window_display": false
  }
 },
 "nbformat": 4,
 "nbformat_minor": 4
}
